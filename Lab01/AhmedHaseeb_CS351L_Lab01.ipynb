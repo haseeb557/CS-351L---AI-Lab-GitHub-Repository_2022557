{
  "nbformat": 4,
  "nbformat_minor": 0,
  "metadata": {
    "colab": {
      "provenance": []
    },
    "kernelspec": {
      "name": "python3",
      "display_name": "Python 3"
    },
    "language_info": {
      "name": "python"
    }
  },
  "cells": [
    {
      "cell_type": "markdown",
      "source": [
        "BFS Version: Breadth-First Search\n",
        "\n",
        "In the BFS version, the AI will explore all possible guesses level by level. This means the AI will start with the smallest possible range and expand to larger ranges until it finds the correct number."
      ],
      "metadata": {
        "id": "uK0SJJZyLG7R"
      }
    },
    {
      "cell_type": "code",
      "execution_count": 1,
      "metadata": {
        "colab": {
          "base_uri": "https://localhost:8080/"
        },
        "id": "VN_kPPeDKUD-",
        "outputId": "8c573315-eacc-490a-e0a4-7b8d894a0c2c"
      },
      "outputs": [
        {
          "output_type": "stream",
          "name": "stdout",
          "text": [
            "Think of a number between 1 and 100, and I (the AI) will try to guess it.\n",
            "AI's guess is: 50\n",
            "Enter 'h' if too high, 'l' if too low, or 'c' if correct: l\n",
            "AI's guess is: 75\n",
            "Enter 'h' if too high, 'l' if too low, or 'c' if correct: h\n",
            "AI's guess is: 62\n",
            "Enter 'h' if too high, 'l' if too low, or 'c' if correct: l\n",
            "AI's guess is: 68\n",
            "Enter 'h' if too high, 'l' if too low, or 'c' if correct: h\n",
            "AI's guess is: 65\n",
            "Enter 'h' if too high, 'l' if too low, or 'c' if correct: c\n",
            "I (AI) guessed the number in 5 attempts!\n"
          ]
        }
      ],
      "source": [
        "from collections import deque\n",
        "\n",
        "def bfs_number_guessing_game():\n",
        "    print(\"Think of a number between 1 and 100, and I (the AI) will try to guess it.\")\n",
        "    low = 1\n",
        "    high = 100\n",
        "    attempts = 0\n",
        "\n",
        "    # Initialize the BFS queue with the entire range\n",
        "    queue = deque([(low, high)])\n",
        "\n",
        "    # Loop until the queue is empty\n",
        "    while queue:\n",
        "        current_low, current_high = queue.popleft()\n",
        "        guess = (current_low + current_high) // 2\n",
        "        attempts += 1\n",
        "\n",
        "        print(f\"AI's guess is: {guess}\")\n",
        "        feedback = input(\"Enter 'h' if too high, 'l' if too low, or 'c' if correct: \").lower()\n",
        "\n",
        "        if feedback == 'c':\n",
        "            print(f\"I (AI) guessed the number in {attempts} attempts!\")\n",
        "            return\n",
        "        elif feedback == 'h':\n",
        "            # If too high, the next range is reduced from the current guess - 1\n",
        "            queue.append((current_low, guess - 1))\n",
        "        elif feedback == 'l':\n",
        "            # If too low, the next range starts from the current guess + 1\n",
        "            queue.append((guess + 1, current_high))\n",
        "\n",
        "    print(\"Something went wrong!\")\n",
        "\n",
        "# Run the BFS version\n",
        "bfs_number_guessing_game()\n"
      ]
    },
    {
      "cell_type": "markdown",
      "source": [
        "DFS Version: Depth-First Search\n",
        "\n",
        "In the DFS version, the AI will explore as deep as possible before backtracking. This means the AI will guess sequentially through possible numbers, adjusting the range as necessary."
      ],
      "metadata": {
        "id": "DqScSNn1LdO0"
      }
    },
    {
      "cell_type": "code",
      "source": [
        "def dfs_number_guessing_game():\n",
        "    print(\"Think of a number between 1 and 100, and I (the AI) will try to guess it.\")\n",
        "    low = 1\n",
        "    high = 100\n",
        "    attempts = 0\n",
        "\n",
        "    # Initialize the DFS stack with the entire range\n",
        "    stack = [(low, high)]\n",
        "\n",
        "    # Loop until the stack is empty\n",
        "    while stack:\n",
        "        current_low, current_high = stack.pop()\n",
        "        guess = (current_low + current_high) // 2\n",
        "        attempts += 1\n",
        "\n",
        "        print(f\"AI's guess is: {guess}\")\n",
        "        feedback = input(\"Enter 'h' if too high, 'l' if too low, or 'c' if correct: \").lower()\n",
        "\n",
        "        if feedback == 'c':\n",
        "            print(f\"I (AI) guessed the number in {attempts} attempts!\")\n",
        "            return\n",
        "        elif feedback == 'h':\n",
        "            # If too high, explore lower range\n",
        "            stack.append((current_low, guess - 1))\n",
        "        elif feedback == 'l':\n",
        "            # If too low, explore higher range\n",
        "            stack.append((guess + 1, current_high))\n",
        "\n",
        "    print(\"Something went wrong!\")\n",
        "\n",
        "# Run the DFS version\n",
        "dfs_number_guessing_game()\n"
      ],
      "metadata": {
        "colab": {
          "base_uri": "https://localhost:8080/"
        },
        "id": "MG7Myf_GLYwB",
        "outputId": "9d771112-c2d5-4f26-cd8a-c9d333f78a51"
      },
      "execution_count": 2,
      "outputs": [
        {
          "output_type": "stream",
          "name": "stdout",
          "text": [
            "Think of a number between 1 and 100, and I (the AI) will try to guess it.\n",
            "AI's guess is: 50\n",
            "Enter 'h' if too high, 'l' if too low, or 'c' if correct: h\n",
            "AI's guess is: 25\n",
            "Enter 'h' if too high, 'l' if too low, or 'c' if correct: h\n",
            "AI's guess is: 12\n",
            "Enter 'h' if too high, 'l' if too low, or 'c' if correct: l\n",
            "AI's guess is: 18\n",
            "Enter 'h' if too high, 'l' if too low, or 'c' if correct: l\n",
            "AI's guess is: 21\n",
            "Enter 'h' if too high, 'l' if too low, or 'c' if correct: h\n",
            "AI's guess is: 19\n",
            "Enter 'h' if too high, 'l' if too low, or 'c' if correct: l\n",
            "AI's guess is: 20\n",
            "Enter 'h' if too high, 'l' if too low, or 'c' if correct: c\n",
            "I (AI) guessed the number in 7 attempts!\n"
          ]
        }
      ]
    },
    {
      "cell_type": "markdown",
      "source": [
        "Ternary Algorithm\n",
        "\n",
        "In a ternary search approach the search space is divided into three segments, but only one guess is made per iteration. Based on the feedback, the AI adjusts the search space to focus on the segment that contains the target number."
      ],
      "metadata": {
        "id": "_t7wGxDoLq8R"
      }
    },
    {
      "cell_type": "code",
      "source": [
        "def ternary_number_guessing_game():\n",
        "    print(\"Think of a number between 1 and 100, and I (the AI) will try to guess it.\")\n",
        "    low = 1\n",
        "    high = 100\n",
        "    attempts = 0\n",
        "\n",
        "    while low <= high:\n",
        "        # Calculate two midpoints to divide the range into three parts\n",
        "        third1 = low + (high - low) // 3\n",
        "        third2 = high - (high - low) // 3\n",
        "\n",
        "        # Make a single guess at one of the midpoints\n",
        "        guess = third1 if third1 < third2 else third2\n",
        "        attempts += 1\n",
        "\n",
        "        print(f\"AI's guess is: {guess}\")\n",
        "        feedback = input(f\"Enter 'h' if too high, 'l' if too low, or 'c' if correct: \").lower()\n",
        "\n",
        "        if feedback == 'c':\n",
        "            print(f\"I (AI) guessed the number {guess} in {attempts} attempts!\")\n",
        "            return\n",
        "        elif feedback == 'h':\n",
        "            high = guess - 1\n",
        "        elif feedback == 'l':\n",
        "            low = guess + 1\n",
        "        else:\n",
        "            print(\"Invalid input! Please enter 'h', 'l', or 'c'.\")\n",
        "            # Continue to prompt until a valid input is received\n",
        "            continue\n",
        "\n",
        "    print(\"Something went wrong!\")\n",
        "\n",
        "# Run the Ternary Search version with a single guess\n",
        "ternary_number_guessing_game()\n",
        "\n",
        "\n",
        "\n",
        ""
      ],
      "metadata": {
        "colab": {
          "base_uri": "https://localhost:8080/"
        },
        "id": "JU9jMr3nLnv0",
        "outputId": "704b1d3f-8c85-4fcb-aafc-83f4d33f1ee3"
      },
      "execution_count": 9,
      "outputs": [
        {
          "output_type": "stream",
          "name": "stdout",
          "text": [
            "Think of a number between 1 and 100, and I (the AI) will try to guess it.\n",
            "AI's guess is: 34\n",
            "Enter 'h' if too high, 'l' if too low, or 'c' if correct: l\n",
            "AI's guess is: 56\n",
            "Enter 'h' if too high, 'l' if too low, or 'c' if correct: h\n",
            "AI's guess is: 41\n",
            "Enter 'h' if too high, 'l' if too low, or 'c' if correct: l\n",
            "AI's guess is: 46\n",
            "Enter 'h' if too high, 'l' if too low, or 'c' if correct: h\n",
            "AI's guess is: 43\n",
            "Enter 'h' if too high, 'l' if too low, or 'c' if correct: l\n",
            "AI's guess is: 44\n",
            "Enter 'h' if too high, 'l' if too low, or 'c' if correct: l\n",
            "AI's guess is: 45\n",
            "Enter 'h' if too high, 'l' if too low, or 'c' if correct: c\n",
            "I (AI) guessed the number 45 in 7 attempts!\n"
          ]
        }
      ]
    }
  ]
}